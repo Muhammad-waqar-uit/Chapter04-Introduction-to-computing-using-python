{
 "cells": [
  {
   "cell_type": "code",
   "execution_count": 3,
   "metadata": {},
   "outputs": [
    {
     "name": "stdout",
     "output_type": "stream",
     "text": [
      "Hello, World\n",
      "Hello\n"
     ]
    }
   ],
   "source": [
    "print(\"Hello, World\")\n",
    "print(\"Hello\")"
   ]
  },
  {
   "cell_type": "code",
   "execution_count": 5,
   "metadata": {},
   "outputs": [
    {
     "name": "stdout",
     "output_type": "stream",
     "text": [
      "I am \"sick\"\n",
      "I'm sick\n"
     ]
    }
   ],
   "source": [
    "excuse='I am \"sick\"'\n",
    "fact=\"I'm sick\"\n",
    "print(excuse)\n",
    "print(fact)"
   ]
  },
  {
   "cell_type": "code",
   "execution_count": 7,
   "metadata": {},
   "outputs": [
    {
     "name": "stdout",
     "output_type": "stream",
     "text": [
      "I'm \"Sick\"\n"
     ]
    }
   ],
   "source": [
    "print('I\\'m \"Sick\"')"
   ]
  },
  {
   "cell_type": "code",
   "execution_count": 8,
   "metadata": {},
   "outputs": [
    {
     "name": "stdout",
     "output_type": "stream",
     "text": [
      "\n",
      "To make a prairie it takes a clover and one bee,\n",
      "One clover, and a bee,\n",
      "And recovery.\n",
      "The revery alone will do\n",
      "If bees are few.\n",
      "\n"
     ]
    }
   ],
   "source": [
    "poem='''\n",
    "To make a prairie it takes a clover and one bee,\n",
    "One clover, and a bee,\n",
    "And recovery.\n",
    "The revery alone will do\n",
    "If bees are few.\n",
    "'''\n",
    "print(poem)"
   ]
  },
  {
   "cell_type": "code",
   "execution_count": 10,
   "metadata": {},
   "outputs": [
    {
     "name": "stdout",
     "output_type": "stream",
     "text": [
      "To make a prairie it takes a clover and one bee,\n",
      "One clover, and a bee,\n",
      "And recovery.\n",
      "The revery alone will do\n",
      "If bees are few.\n",
      "\n"
     ]
    }
   ],
   "source": [
    "poem='''To make a prairie it takes a clover and one bee,\\nOne clover, and a bee,\\nAnd recovery.\\nThe revery alone will do\\nIf bees are few.\n",
    "'''\n",
    "print(poem)"
   ]
  },
  {
   "cell_type": "code",
   "execution_count": 20,
   "metadata": {},
   "outputs": [
    {
     "name": "stdout",
     "output_type": "stream",
     "text": [
      "H\n",
      "He\n",
      "l\n",
      "ll\n",
      "He\n",
      "llo\n"
     ]
    }
   ],
   "source": [
    "s=\"Hello\"\n",
    "print(s[0])\n",
    "print(s[0:2])\n",
    "print(s[3:4])\n",
    "print(s[-3:-1])\n",
    "print(s[:2])\n",
    "print(s[-3:])"
   ]
  },
  {
   "cell_type": "code",
   "execution_count": 25,
   "metadata": {},
   "outputs": [
    {
     "name": "stdout",
     "output_type": "stream",
     "text": [
      "234\n",
      "78\n",
      "1234567\n",
      "0123\n",
      "789\n"
     ]
    }
   ],
   "source": [
    "#4.1\n",
    "s=\"0123456789\"\n",
    "print(s[2:5])\n",
    "print(s[7:9])\n",
    "print(s[1:8])\n",
    "print(s[0:4])\n",
    "print(s[7:10])"
   ]
  },
  {
   "cell_type": "code",
   "execution_count": 28,
   "metadata": {},
   "outputs": [
    {
     "name": "stdout",
     "output_type": "stream",
     "text": [
      "['goldfish', 'cat']\n",
      "['goldfish', 'cat']\n",
      "['cat', 'dog']\n"
     ]
    }
   ],
   "source": [
    "pets=[\"goldfish\",\"cat\",\"dog\"]\n",
    "print(pets[:2])\n",
    "print(pets[-3:-1])\n",
    "print(pets[1:])"
   ]
  },
  {
   "cell_type": "code",
   "execution_count": 36,
   "metadata": {},
   "outputs": [
    {
     "name": "stdout",
     "output_type": "stream",
     "text": [
      "16\n",
      "2\n",
      "This message is no secret and should not be divulged to anyone without no secret clearance\n",
      "This message is top secret and should not be divulged to anyone without top secret clearance\n",
      "This message is no secret and should not be divulged to anyone without no secret clearance\n"
     ]
    }
   ],
   "source": [
    "message='''This message is top secret and should not be divulged to anyone without top secret clearance'''\n",
    "print(message.find(\"top secret\"))\n",
    "print(message.count(\"top secret\"))\n",
    "print(message.replace(\"top\",\"no\"))\n",
    "print(message)\n",
    "public=message.replace(\"top\",\"no\")\n",
    "print(public)"
   ]
  },
  {
   "cell_type": "code",
   "execution_count": 40,
   "metadata": {},
   "outputs": [
    {
     "name": "stdout",
     "output_type": "stream",
     "text": [
      "Top secret\n",
      "TOP SECRET\n"
     ]
    }
   ],
   "source": [
    "message=\"top secret\"\n",
    "print(message.capitalize())\n",
    "print(message.upper())"
   ]
  },
  {
   "cell_type": "code",
   "execution_count": 42,
   "metadata": {},
   "outputs": [
    {
     "name": "stdout",
     "output_type": "stream",
     "text": [
      "['This', 'is', 'the', 'text']\n"
     ]
    }
   ],
   "source": [
    "print(\"This is the text\".split())"
   ]
  },
  {
   "cell_type": "code",
   "execution_count": 49,
   "metadata": {},
   "outputs": [
    {
     "name": "stdout",
     "output_type": "stream",
     "text": [
      "['2', '3', '5', '7', '9', '11', '13']\n"
     ]
    }
   ],
   "source": [
    "X=\"2;3;5;7;9;11;13\"\n",
    "print(X.split(';'))"
   ]
  },
  {
   "cell_type": "code",
   "execution_count": 53,
   "metadata": {},
   "outputs": [
    {
     "name": "stdout",
     "output_type": "stream",
     "text": [
      "zux\n",
      "xysktop\n",
      "Help on class str in module builtins:\n",
      "\n",
      "class str(object)\n",
      " |  str(object='') -> str\n",
      " |  str(bytes_or_buffer[, encoding[, errors]]) -> str\n",
      " |  \n",
      " |  Create a new string object from the given object. If encoding or\n",
      " |  errors is specified, then the object must expose a data buffer\n",
      " |  that will be decoded using the given encoding and error handler.\n",
      " |  Otherwise, returns the result of object.__str__() (if defined)\n",
      " |  or repr(object).\n",
      " |  encoding defaults to sys.getdefaultencoding().\n",
      " |  errors defaults to 'strict'.\n",
      " |  \n",
      " |  Methods defined here:\n",
      " |  \n",
      " |  __add__(self, value, /)\n",
      " |      Return self+value.\n",
      " |  \n",
      " |  __contains__(self, key, /)\n",
      " |      Return key in self.\n",
      " |  \n",
      " |  __eq__(self, value, /)\n",
      " |      Return self==value.\n",
      " |  \n",
      " |  __format__(self, format_spec, /)\n",
      " |      Return a formatted version of the string as described by format_spec.\n",
      " |  \n",
      " |  __ge__(self, value, /)\n",
      " |      Return self>=value.\n",
      " |  \n",
      " |  __getattribute__(self, name, /)\n",
      " |      Return getattr(self, name).\n",
      " |  \n",
      " |  __getitem__(self, key, /)\n",
      " |      Return self[key].\n",
      " |  \n",
      " |  __getnewargs__(...)\n",
      " |  \n",
      " |  __gt__(self, value, /)\n",
      " |      Return self>value.\n",
      " |  \n",
      " |  __hash__(self, /)\n",
      " |      Return hash(self).\n",
      " |  \n",
      " |  __iter__(self, /)\n",
      " |      Implement iter(self).\n",
      " |  \n",
      " |  __le__(self, value, /)\n",
      " |      Return self<=value.\n",
      " |  \n",
      " |  __len__(self, /)\n",
      " |      Return len(self).\n",
      " |  \n",
      " |  __lt__(self, value, /)\n",
      " |      Return self<value.\n",
      " |  \n",
      " |  __mod__(self, value, /)\n",
      " |      Return self%value.\n",
      " |  \n",
      " |  __mul__(self, value, /)\n",
      " |      Return self*value.\n",
      " |  \n",
      " |  __ne__(self, value, /)\n",
      " |      Return self!=value.\n",
      " |  \n",
      " |  __repr__(self, /)\n",
      " |      Return repr(self).\n",
      " |  \n",
      " |  __rmod__(self, value, /)\n",
      " |      Return value%self.\n",
      " |  \n",
      " |  __rmul__(self, value, /)\n",
      " |      Return value*self.\n",
      " |  \n",
      " |  __sizeof__(self, /)\n",
      " |      Return the size of the string in memory, in bytes.\n",
      " |  \n",
      " |  __str__(self, /)\n",
      " |      Return str(self).\n",
      " |  \n",
      " |  capitalize(self, /)\n",
      " |      Return a capitalized version of the string.\n",
      " |      \n",
      " |      More specifically, make the first character have upper case and the rest lower\n",
      " |      case.\n",
      " |  \n",
      " |  casefold(self, /)\n",
      " |      Return a version of the string suitable for caseless comparisons.\n",
      " |  \n",
      " |  center(self, width, fillchar=' ', /)\n",
      " |      Return a centered string of length width.\n",
      " |      \n",
      " |      Padding is done using the specified fill character (default is a space).\n",
      " |  \n",
      " |  count(...)\n",
      " |      S.count(sub[, start[, end]]) -> int\n",
      " |      \n",
      " |      Return the number of non-overlapping occurrences of substring sub in\n",
      " |      string S[start:end].  Optional arguments start and end are\n",
      " |      interpreted as in slice notation.\n",
      " |  \n",
      " |  encode(self, /, encoding='utf-8', errors='strict')\n",
      " |      Encode the string using the codec registered for encoding.\n",
      " |      \n",
      " |      encoding\n",
      " |        The encoding in which to encode the string.\n",
      " |      errors\n",
      " |        The error handling scheme to use for encoding errors.\n",
      " |        The default is 'strict' meaning that encoding errors raise a\n",
      " |        UnicodeEncodeError.  Other possible values are 'ignore', 'replace' and\n",
      " |        'xmlcharrefreplace' as well as any other name registered with\n",
      " |        codecs.register_error that can handle UnicodeEncodeErrors.\n",
      " |  \n",
      " |  endswith(...)\n",
      " |      S.endswith(suffix[, start[, end]]) -> bool\n",
      " |      \n",
      " |      Return True if S ends with the specified suffix, False otherwise.\n",
      " |      With optional start, test S beginning at that position.\n",
      " |      With optional end, stop comparing S at that position.\n",
      " |      suffix can also be a tuple of strings to try.\n",
      " |  \n",
      " |  expandtabs(self, /, tabsize=8)\n",
      " |      Return a copy where all tab characters are expanded using spaces.\n",
      " |      \n",
      " |      If tabsize is not given, a tab size of 8 characters is assumed.\n",
      " |  \n",
      " |  find(...)\n",
      " |      S.find(sub[, start[, end]]) -> int\n",
      " |      \n",
      " |      Return the lowest index in S where substring sub is found,\n",
      " |      such that sub is contained within S[start:end].  Optional\n",
      " |      arguments start and end are interpreted as in slice notation.\n",
      " |      \n",
      " |      Return -1 on failure.\n",
      " |  \n",
      " |  format(...)\n",
      " |      S.format(*args, **kwargs) -> str\n",
      " |      \n",
      " |      Return a formatted version of S, using substitutions from args and kwargs.\n",
      " |      The substitutions are identified by braces ('{' and '}').\n",
      " |  \n",
      " |  format_map(...)\n",
      " |      S.format_map(mapping) -> str\n",
      " |      \n",
      " |      Return a formatted version of S, using substitutions from mapping.\n",
      " |      The substitutions are identified by braces ('{' and '}').\n",
      " |  \n",
      " |  index(...)\n",
      " |      S.index(sub[, start[, end]]) -> int\n",
      " |      \n",
      " |      Return the lowest index in S where substring sub is found, \n",
      " |      such that sub is contained within S[start:end].  Optional\n",
      " |      arguments start and end are interpreted as in slice notation.\n",
      " |      \n",
      " |      Raises ValueError when the substring is not found.\n",
      " |  \n",
      " |  isalnum(self, /)\n",
      " |      Return True if the string is an alpha-numeric string, False otherwise.\n",
      " |      \n",
      " |      A string is alpha-numeric if all characters in the string are alpha-numeric and\n",
      " |      there is at least one character in the string.\n",
      " |  \n",
      " |  isalpha(self, /)\n",
      " |      Return True if the string is an alphabetic string, False otherwise.\n",
      " |      \n",
      " |      A string is alphabetic if all characters in the string are alphabetic and there\n",
      " |      is at least one character in the string.\n",
      " |  \n",
      " |  isascii(self, /)\n",
      " |      Return True if all characters in the string are ASCII, False otherwise.\n",
      " |      \n",
      " |      ASCII characters have code points in the range U+0000-U+007F.\n",
      " |      Empty string is ASCII too.\n",
      " |  \n",
      " |  isdecimal(self, /)\n",
      " |      Return True if the string is a decimal string, False otherwise.\n",
      " |      \n",
      " |      A string is a decimal string if all characters in the string are decimal and\n",
      " |      there is at least one character in the string.\n",
      " |  \n",
      " |  isdigit(self, /)\n",
      " |      Return True if the string is a digit string, False otherwise.\n",
      " |      \n",
      " |      A string is a digit string if all characters in the string are digits and there\n",
      " |      is at least one character in the string.\n",
      " |  \n",
      " |  isidentifier(self, /)\n",
      " |      Return True if the string is a valid Python identifier, False otherwise.\n",
      " |      \n",
      " |      Use keyword.iskeyword() to test for reserved identifiers such as \"def\" and\n",
      " |      \"class\".\n",
      " |  \n",
      " |  islower(self, /)\n",
      " |      Return True if the string is a lowercase string, False otherwise.\n",
      " |      \n",
      " |      A string is lowercase if all cased characters in the string are lowercase and\n",
      " |      there is at least one cased character in the string.\n",
      " |  \n",
      " |  isnumeric(self, /)\n",
      " |      Return True if the string is a numeric string, False otherwise.\n",
      " |      \n",
      " |      A string is numeric if all characters in the string are numeric and there is at\n",
      " |      least one character in the string.\n",
      " |  \n",
      " |  isprintable(self, /)\n",
      " |      Return True if the string is printable, False otherwise.\n",
      " |      \n",
      " |      A string is printable if all of its characters are considered printable in\n",
      " |      repr() or if it is empty.\n",
      " |  \n",
      " |  isspace(self, /)\n",
      " |      Return True if the string is a whitespace string, False otherwise.\n",
      " |      \n",
      " |      A string is whitespace if all characters in the string are whitespace and there\n",
      " |      is at least one character in the string.\n",
      " |  \n",
      " |  istitle(self, /)\n",
      " |      Return True if the string is a title-cased string, False otherwise.\n",
      " |      \n",
      " |      In a title-cased string, upper- and title-case characters may only\n",
      " |      follow uncased characters and lowercase characters only cased ones.\n",
      " |  \n",
      " |  isupper(self, /)\n",
      " |      Return True if the string is an uppercase string, False otherwise.\n",
      " |      \n",
      " |      A string is uppercase if all cased characters in the string are uppercase and\n",
      " |      there is at least one cased character in the string.\n",
      " |  \n",
      " |  join(self, iterable, /)\n",
      " |      Concatenate any number of strings.\n",
      " |      \n",
      " |      The string whose method is called is inserted in between each given string.\n",
      " |      The result is returned as a new string.\n",
      " |      \n",
      " |      Example: '.'.join(['ab', 'pq', 'rs']) -> 'ab.pq.rs'\n",
      " |  \n",
      " |  ljust(self, width, fillchar=' ', /)\n",
      " |      Return a left-justified string of length width.\n",
      " |      \n",
      " |      Padding is done using the specified fill character (default is a space).\n",
      " |  \n",
      " |  lower(self, /)\n",
      " |      Return a copy of the string converted to lowercase.\n",
      " |  \n",
      " |  lstrip(self, chars=None, /)\n",
      " |      Return a copy of the string with leading whitespace removed.\n",
      " |      \n",
      " |      If chars is given and not None, remove characters in chars instead.\n",
      " |  \n",
      " |  partition(self, sep, /)\n",
      " |      Partition the string into three parts using the given separator.\n",
      " |      \n",
      " |      This will search for the separator in the string.  If the separator is found,\n",
      " |      returns a 3-tuple containing the part before the separator, the separator\n",
      " |      itself, and the part after it.\n",
      " |      \n",
      " |      If the separator is not found, returns a 3-tuple containing the original string\n",
      " |      and two empty strings.\n",
      " |  \n",
      " |  replace(self, old, new, count=-1, /)\n",
      " |      Return a copy with all occurrences of substring old replaced by new.\n",
      " |      \n",
      " |        count\n",
      " |          Maximum number of occurrences to replace.\n",
      " |          -1 (the default value) means replace all occurrences.\n",
      " |      \n",
      " |      If the optional argument count is given, only the first count occurrences are\n",
      " |      replaced.\n",
      " |  \n",
      " |  rfind(...)\n",
      " |      S.rfind(sub[, start[, end]]) -> int\n",
      " |      \n",
      " |      Return the highest index in S where substring sub is found,\n",
      " |      such that sub is contained within S[start:end].  Optional\n",
      " |      arguments start and end are interpreted as in slice notation.\n",
      " |      \n",
      " |      Return -1 on failure.\n",
      " |  \n",
      " |  rindex(...)\n",
      " |      S.rindex(sub[, start[, end]]) -> int\n",
      " |      \n",
      " |      Return the highest index in S where substring sub is found,\n",
      " |      such that sub is contained within S[start:end].  Optional\n",
      " |      arguments start and end are interpreted as in slice notation.\n",
      " |      \n",
      " |      Raises ValueError when the substring is not found.\n",
      " |  \n",
      " |  rjust(self, width, fillchar=' ', /)\n",
      " |      Return a right-justified string of length width.\n",
      " |      \n",
      " |      Padding is done using the specified fill character (default is a space).\n",
      " |  \n",
      " |  rpartition(self, sep, /)\n",
      " |      Partition the string into three parts using the given separator.\n",
      " |      \n",
      " |      This will search for the separator in the string, starting at the end. If\n",
      " |      the separator is found, returns a 3-tuple containing the part before the\n",
      " |      separator, the separator itself, and the part after it.\n",
      " |      \n",
      " |      If the separator is not found, returns a 3-tuple containing two empty strings\n",
      " |      and the original string.\n",
      " |  \n",
      " |  rsplit(self, /, sep=None, maxsplit=-1)\n",
      " |      Return a list of the words in the string, using sep as the delimiter string.\n",
      " |      \n",
      " |        sep\n",
      " |          The delimiter according which to split the string.\n",
      " |          None (the default value) means split according to any whitespace,\n",
      " |          and discard empty strings from the result.\n",
      " |        maxsplit\n",
      " |          Maximum number of splits to do.\n",
      " |          -1 (the default value) means no limit.\n",
      " |      \n",
      " |      Splits are done starting at the end of the string and working to the front.\n",
      " |  \n",
      " |  rstrip(self, chars=None, /)\n",
      " |      Return a copy of the string with trailing whitespace removed.\n",
      " |      \n",
      " |      If chars is given and not None, remove characters in chars instead.\n",
      " |  \n",
      " |  split(self, /, sep=None, maxsplit=-1)\n",
      " |      Return a list of the words in the string, using sep as the delimiter string.\n",
      " |      \n",
      " |      sep\n",
      " |        The delimiter according which to split the string.\n",
      " |        None (the default value) means split according to any whitespace,\n",
      " |        and discard empty strings from the result.\n",
      " |      maxsplit\n",
      " |        Maximum number of splits to do.\n",
      " |        -1 (the default value) means no limit.\n",
      " |  \n",
      " |  splitlines(self, /, keepends=False)\n",
      " |      Return a list of the lines in the string, breaking at line boundaries.\n",
      " |      \n",
      " |      Line breaks are not included in the resulting list unless keepends is given and\n",
      " |      true.\n",
      " |  \n",
      " |  startswith(...)\n",
      " |      S.startswith(prefix[, start[, end]]) -> bool\n",
      " |      \n",
      " |      Return True if S starts with the specified prefix, False otherwise.\n",
      " |      With optional start, test S beginning at that position.\n",
      " |      With optional end, stop comparing S at that position.\n",
      " |      prefix can also be a tuple of strings to try.\n",
      " |  \n",
      " |  strip(self, chars=None, /)\n",
      " |      Return a copy of the string with leading and trailing whitespace remove.\n",
      " |      \n",
      " |      If chars is given and not None, remove characters in chars instead.\n",
      " |  \n",
      " |  swapcase(self, /)\n",
      " |      Convert uppercase characters to lowercase and lowercase characters to uppercase.\n",
      " |  \n",
      " |  title(self, /)\n",
      " |      Return a version of the string where each word is titlecased.\n",
      " |      \n",
      " |      More specifically, words start with uppercased characters and all remaining\n",
      " |      cased characters have lower case.\n",
      " |  \n",
      " |  translate(self, table, /)\n",
      " |      Replace each character in the string using the given translation table.\n",
      " |      \n",
      " |        table\n",
      " |          Translation table, which must be a mapping of Unicode ordinals to\n",
      " |          Unicode ordinals, strings, or None.\n",
      " |      \n",
      " |      The table must implement lookup/indexing via __getitem__, for instance a\n",
      " |      dictionary or list.  If this operation raises LookupError, the character is\n",
      " |      left untouched.  Characters mapped to None are deleted.\n",
      " |  \n",
      " |  upper(self, /)\n",
      " |      Return a copy of the string converted to uppercase.\n",
      " |  \n",
      " |  zfill(self, width, /)\n",
      " |      Pad a numeric string with zeros on the left, to fill a field of the given width.\n",
      " |      \n",
      " |      The string is never truncated.\n",
      " |  \n",
      " |  ----------------------------------------------------------------------\n",
      " |  Static methods defined here:\n",
      " |  \n",
      " |  __new__(*args, **kwargs) from builtins.type\n",
      " |      Create and return a new object.  See help(type) for accurate signature.\n",
      " |  \n",
      " |  maketrans(x, y=None, z=None, /)\n",
      " |      Return a translation table usable for str.translate().\n",
      " |      \n",
      " |      If there is only one argument, it must be a dictionary mapping Unicode\n",
      " |      ordinals (integers) or characters to Unicode ordinals, strings or None.\n",
      " |      Character keys will be then converted to ordinals.\n",
      " |      If there are two arguments, they must be strings of equal length, and\n",
      " |      in the resulting dictionary, each character in x will be mapped to the\n",
      " |      character at the same position in y. If there is a third argument, it\n",
      " |      must be a string, whose characters will be mapped to None in the result.\n",
      "\n"
     ]
    }
   ],
   "source": [
    "table=str.maketrans(\"abcdef\",\"uvwxyz\")\n",
    "print(\"fad\".translate(table))\n",
    "print(\"desktop\".translate(table))\n",
    "help(str)"
   ]
  },
  {
   "cell_type": "code",
   "execution_count": 61,
   "metadata": {},
   "outputs": [
    {
     "name": "stdout",
     "output_type": "stream",
     "text": [
      "2\n",
      "13\n",
      "It will be a cloudy day today\n"
     ]
    }
   ],
   "source": [
    "#4.2\n",
    "Forecast=\"It will be a sunny day today\"\n",
    "count=Forecast.count(\"day\")\n",
    "print(count)\n",
    "weather=Forecast.find(\"sunny\")\n",
    "print(weather)\n",
    "change=Forecast.replace(\"sunny\",\"cloudy\")\n",
    "print(change)"
   ]
  },
  {
   "cell_type": "code",
   "execution_count": 71,
   "metadata": {},
   "outputs": [
    {
     "name": "stdout",
     "output_type": "stream",
     "text": [
      "5\n",
      "5 1.6666666666666667\n",
      "5 1.6666666666666667 ida\n",
      "5;1.6666666666666667;ida\n",
      "5,1.6666666666666667,ida\n",
      "5\n",
      "1.6666666666666667\n",
      "ida\n"
     ]
    }
   ],
   "source": [
    "n=5\n",
    "print(n)\n",
    "r=5/3\n",
    "print(n,r)\n",
    "name=\"ida\"\n",
    "print(n,r,name)\n",
    "print(n,r,name,sep=\";\")\n",
    "print(n,r,name,sep=\",\")\n",
    "print(n,r,name,sep=\"\\n\")"
   ]
  },
  {
   "cell_type": "code",
   "execution_count": 72,
   "metadata": {},
   "outputs": [
    {
     "name": "stdout",
     "output_type": "stream",
     "text": [
      "Smith\tJohn\tPaul\n"
     ]
    }
   ],
   "source": [
    "#4.3\n",
    "last=\"Smith\"\n",
    "first=\"John\"\n",
    "middle=\"Paul\"\n",
    "print(last,first,middle,sep=\"\\t\")"
   ]
  },
  {
   "cell_type": "code",
   "execution_count": 77,
   "metadata": {},
   "outputs": [
    {
     "name": "stdout",
     "output_type": "stream",
     "text": [
      "Joe\n",
      "Sam\n",
      "Tim\n",
      "Ann\n"
     ]
    }
   ],
   "source": [
    "for name in [\"Joe\",\"Sam\",\"Tim\",\"Ann\"]:\n",
    "    print(name)"
   ]
  },
  {
   "cell_type": "code",
   "execution_count": 81,
   "metadata": {},
   "outputs": [
    {
     "name": "stdout",
     "output_type": "stream",
     "text": [
      "Joe! Sam! Tim! Ann! "
     ]
    }
   ],
   "source": [
    "for name in [\"Joe\",\"Sam\",\"Tim\",\"Ann\"]:\n",
    "    print(name,end=\"! \")"
   ]
  },
  {
   "cell_type": "code",
   "execution_count": 84,
   "metadata": {},
   "outputs": [
    {
     "name": "stdout",
     "output_type": "stream",
     "text": [
      "2,3,4,6,8,9,10,12,14,15,16,\n"
     ]
    }
   ],
   "source": [
    "#4.4\n",
    "def even(x):\n",
    "    for n in x:\n",
    "        if n%2==0 or n%3==0:\n",
    "            print(n,end=\",\")\n",
    "    return\"\" \n",
    "print(even([2,3,4,5,6,7,8,9,10,11,12,13,14,15,16]))"
   ]
  },
  {
   "cell_type": "code",
   "execution_count": 87,
   "metadata": {},
   "outputs": [
    {
     "name": "stdout",
     "output_type": "stream",
     "text": [
      "Wednesday ,March 10,2019 at 12:25:25\n",
      "12:25:25\n"
     ]
    }
   ],
   "source": [
    "weekday=\"Wednesday\"\n",
    "month=\"March\"\n",
    "day=3\n",
    "year=2019\n",
    "hour=12\n",
    "minute=25\n",
    "second=25\n",
    "print(\"{} ,{} {},{} at {}:{}:{}\".format(weekday,month,10,year,hour,minute,second))\n",
    "print(\"{0}:{1}:{2}\".format(hour,minute,second))"
   ]
  },
  {
   "cell_type": "code",
   "execution_count": 90,
   "metadata": {},
   "outputs": [
    {
     "name": "stdout",
     "output_type": "stream",
     "text": [
      "Muhammad waqar 753200\n",
      "Karachi , 753200\n",
      "Student\n",
      "Gulistan-ejoher\n",
      "Pakistan .\n",
      "\n"
     ]
    }
   ],
   "source": [
    "#4.5\n",
    "def mailaddress(name,city,zipcode,occurence,address,state):\n",
    "    print(name,zipcode)\n",
    "    print(city,\",\",zipcode)\n",
    "    print(occurence)\n",
    "    print(address)\n",
    "    print(state,\".\")\n",
    "    return\"\"\n",
    "print(mailaddress(\"Muhammad waqar\",\"Karachi\",\"753200\",\"Student\",\"Gulistan-ejoher\",\"Pakistan\"))"
   ]
  },
  {
   "cell_type": "code",
   "execution_count": 19,
   "metadata": {},
   "outputs": [
    {
     "name": "stdout",
     "output_type": "stream",
     "text": [
      "i     i**2     i**3     2**i\n",
      "1     1         1          1\n",
      "4     4         4          8\n",
      "9     9         9         27\n",
      "16    16        16         64\n",
      "25    25        25        125\n",
      "36    36        36        216\n",
      "49    49        49        343\n",
      "64    64        64        512\n",
      "81    81        81        729\n",
      "100   100       100       1000\n",
      "121   121       121       1331\n",
      "144   144       144       1728\n"
     ]
    }
   ],
   "source": [
    "print(\"i     i**2     i**3     2**i\")\n",
    "for i in range(1,13):\n",
    "      print(\"{1:0} {1:5} {1:9} {2:10}\".format(i,i**2,i**3,2**i))"
   ]
  },
  {
   "cell_type": "code",
   "execution_count": 20,
   "metadata": {},
   "outputs": [
    {
     "data": {
      "text/plain": [
       "' 12,  354'"
      ]
     },
     "execution_count": 20,
     "metadata": {},
     "output_type": "execute_result"
    }
   ],
   "source": [
    "\"{0:3},{1:5}\".format(12,354)"
   ]
  },
  {
   "cell_type": "code",
   "execution_count": 21,
   "metadata": {},
   "outputs": [
    {
     "data": {
      "text/plain": [
       "'Bill      Gates     '"
      ]
     },
     "execution_count": 21,
     "metadata": {},
     "output_type": "execute_result"
    }
   ],
   "source": [
    "first=\"Bill\"\n",
    "last=\"Gates\"\n",
    "\"{:10}{:10}\".format(first,last)"
   ]
  },
  {
   "cell_type": "code",
   "execution_count": 22,
   "metadata": {},
   "outputs": [
    {
     "data": {
      "text/plain": [
       "'   333.3'"
      ]
     },
     "execution_count": 22,
     "metadata": {},
     "output_type": "execute_result"
    }
   ],
   "source": [
    "\"{:8.4}\".format(1000/3)"
   ]
  },
  {
   "cell_type": "code",
   "execution_count": 23,
   "metadata": {},
   "outputs": [
    {
     "data": {
      "text/plain": [
       "333.3333333333333"
      ]
     },
     "execution_count": 23,
     "metadata": {},
     "output_type": "execute_result"
    }
   ],
   "source": [
    "1000/3"
   ]
  },
  {
   "cell_type": "code",
   "execution_count": 29,
   "metadata": {},
   "outputs": [
    {
     "name": "stdout",
     "output_type": "stream",
     "text": [
      "1010\n",
      "\n",
      "\n",
      "10\n",
      "a\n",
      "A\n"
     ]
    }
   ],
   "source": [
    "n=10\n",
    "print(\"{:b}\".format(n))\n",
    "print(\"{:c}\".format(n))\n",
    "print(\"{:d}\".format(n))\n",
    "print(\"{:x}\".format(n))\n",
    "print(\"{:X}\".format(n))"
   ]
  },
  {
   "cell_type": "code",
   "execution_count": 30,
   "metadata": {},
   "outputs": [
    {
     "name": "stdout",
     "output_type": "stream",
     "text": [
      "  1.67\n"
     ]
    }
   ],
   "source": [
    "print(\"{:6.2f}\".format(5/3))"
   ]
  },
  {
   "cell_type": "code",
   "execution_count": 32,
   "metadata": {},
   "outputs": [
    {
     "name": "stdout",
     "output_type": "stream",
     "text": [
      "1.666667e+00\n"
     ]
    }
   ],
   "source": [
    "print(\"{:e}\".format(5/3))"
   ]
  },
  {
   "cell_type": "code",
   "execution_count": 45,
   "metadata": {},
   "outputs": [
    {
     "name": "stdout",
     "output_type": "stream",
     "text": [
      "i     i**2     i**3   2**i\n",
      " 2      4      8       4\n",
      " 3      9     27       8\n",
      " 4     16     64      16\n",
      " 5     25    125      32\n",
      " 6     36    216      64\n",
      " 7     49    343     128\n",
      " 8     64    512     256\n",
      " 9     81    729     512\n",
      "10    100   1000    1024\n",
      "11    121   1331    2048\n",
      "12    144   1728    4096\n",
      "13    169   2197    8192\n",
      "\n"
     ]
    }
   ],
   "source": [
    "def growthrates(n):\n",
    "    \"print valus of below 3 functions for i =1,....,n\"\n",
    "    print(\"i     i**2     i**3   2**i\")\n",
    "    formatstr=\"{0:2d} {1:6d} {2:6d} {3:7d}\"\n",
    "    for i in range(2,n+1):\n",
    "        print(formatstr.format(i, i**2, i**3, 2**i))\n",
    "    return\"\"\n",
    "print(growthrates(13))"
   ]
  },
  {
   "cell_type": "code",
   "execution_count": 49,
   "metadata": {},
   "outputs": [
    {
     "name": "stdout",
     "output_type": "stream",
     "text": [
      "DeMoines  jim       Sophomore     3.45\n",
      "Pierre    Sophie    Sophomore     4.00\n",
      "Columbus  Maria     Senior        2.50\n",
      "Pheonix   River     Jumior        2.45\n",
      "Olympus   Edgar     junior        3.99\n"
     ]
    }
   ],
   "source": [
    "#4.6\n",
    "def roster(students):\n",
    "    \"print the average grade for the roaster of students\"\n",
    "    for student in students: \n",
    "        print(\"{:10}{:10}{:10}{:8.2f}\".format(student[0],student[1],student[2],student[3]))\n",
    "    \n",
    "students=[]\n",
    "students.append([\"DeMoines\",\"jim\",\"Sophomore\",3.45])\n",
    "students.append([\"Pierre\",\"Sophie\",\"Sophomore\",4.0])\n",
    "students.append([\"Columbus\",\"Maria\",\"Senior\",2.5])\n",
    "students.append([\"Pheonix\",\"River\",\"Jumior\",2.45])\n",
    "students.append([\"Olympus\",\"Edgar\",\"junior\",3.99])\n",
    "roster(students)"
   ]
  },
  {
   "cell_type": "code",
   "execution_count": 57,
   "metadata": {},
   "outputs": [
    {
     "name": "stdout",
     "output_type": "stream",
     "text": [
      "1575379659.141182\n",
      "time.struct_time(tm_year=1970, tm_mon=1, tm_mday=1, tm_hour=0, tm_min=0, tm_sec=0, tm_wday=3, tm_yday=1, tm_isdst=0)\n",
      "time.struct_time(tm_year=2019, tm_mon=12, tm_mday=3, tm_hour=18, tm_min=27, tm_sec=39, tm_wday=1, tm_yday=337, tm_isdst=0)\n",
      "Tuesday Dec/03/19 06:27 PM\n"
     ]
    }
   ],
   "source": [
    "import time\n",
    "print(time.time())\n",
    "print(time.gmtime(0))\n",
    "print(time.localtime())\n",
    "print(time.strftime(\"%A %b/%d/%y %I:%M %p\", time.localtime()))"
   ]
  },
  {
   "cell_type": "code",
   "execution_count": 63,
   "metadata": {},
   "outputs": [
    {
     "name": "stdout",
     "output_type": "stream",
     "text": [
      "'Thusday, July 13 2017'\n",
      "06:34 PM central daylight time on 03/December/19\n",
      "I will meet you on Tuesday 34 03 at 06:34 PM\n"
     ]
    }
   ],
   "source": [
    "#4.7\n",
    "import time\n",
    "t=time.localtime(1500000000)\n",
    "weekday=\"Thusday\"\n",
    "month=\"July\"\n",
    "day=13\n",
    "year=2017\n",
    "print(time.strftime(\"'{}, {} {} {}'\").format(weekday,month,day,year))\n",
    "print(time.strftime(\"%I:%M %p central daylight time on %d/%B/%y\",time.localtime()))\n",
    "print(time.strftime(\"I will meet you on %A %M %d at %I:%M %p\",time.localtime()))"
   ]
  },
  {
   "cell_type": "code",
   "execution_count": 11,
   "metadata": {},
   "outputs": [
    {
     "name": "stdout",
     "output_type": "stream",
     "text": [
      "M\n",
      "y nam\n",
      "e is Muhmmad Waqar and i am student of UIT.\n",
      "\n"
     ]
    }
   ],
   "source": [
    "infile=open(\"example.txt\",\"r\")\n",
    "print(infile.read(1))\n",
    "print(infile.read(5))\n",
    "print(infile.readline())\n",
    "infile.close()"
   ]
  },
  {
   "cell_type": "code",
   "execution_count": 14,
   "metadata": {},
   "outputs": [
    {
     "name": "stdout",
     "output_type": "stream",
     "text": [
      "50\n"
     ]
    }
   ],
   "source": [
    "def numchar(filename):\n",
    "    \"return the number of characters in file filename\"\n",
    "    infile=open(filename,\"r\")\n",
    "    content=infile.read()\n",
    "    infile.close()\n",
    "    return len(content)\n",
    "print(numchar(\"example.txt\"))"
   ]
  },
  {
   "cell_type": "code",
   "execution_count": 18,
   "metadata": {},
   "outputs": [
    {
     "name": "stdout",
     "output_type": "stream",
     "text": [
      "1\n"
     ]
    }
   ],
   "source": [
    "#4.8\n",
    "def stringcount(filename,target):\n",
    "    \"returns the number of occurence of target in file filename\"\n",
    "    infile=open(filename)\n",
    "    content=infile.read()\n",
    "    infile.close()\n",
    "    return content.count(target)\n",
    "print(stringcount(\"example.txt\",\"is\"))"
   ]
  },
  {
   "cell_type": "code",
   "execution_count": 19,
   "metadata": {},
   "outputs": [
    {
     "name": "stdout",
     "output_type": "stream",
     "text": [
      "['My', 'name', 'is', 'Muhmmad', 'Waqar', 'and', 'i', 'am', 'student', 'of', 'UIT.']\n",
      "11\n"
     ]
    }
   ],
   "source": [
    "def numwords(filename):\n",
    "    \"return the number of words in file filename\"\n",
    "    infile=open(filename,\"r\")\n",
    "    content=infile.read() #read the file into a string\n",
    "    infile.close()\n",
    "    wordlist=content.split()\n",
    "    print(wordlist)\n",
    "    return len(wordlist)\n",
    "print(numwords(\"example.txt\"))"
   ]
  },
  {
   "cell_type": "code",
   "execution_count": 22,
   "metadata": {},
   "outputs": [
    {
     "name": "stdout",
     "output_type": "stream",
     "text": [
      "['my', 'name', 'is', 'muhmmad', 'waqar', 'and', 'i', 'am', 'student', 'of', 'uit']\n"
     ]
    }
   ],
   "source": [
    "#4.9\n",
    "def words(filename):\n",
    "    \"returns the list of words in the file filename\"\n",
    "    infile=open(filename,\"r\")\n",
    "    content=infile.read()\n",
    "    infile.close()\n",
    "    table=str.maketrans('!,.:;?',6*' ')\n",
    "    content=content.translate(table)\n",
    "    content=content.lower()\n",
    "    return content.split()\n",
    "print(words(\"example.txt\"))"
   ]
  },
  {
   "cell_type": "code",
   "execution_count": 23,
   "metadata": {},
   "outputs": [
    {
     "name": "stdout",
     "output_type": "stream",
     "text": [
      "['My name is Muhmmad Waqar and i am student of UIT.\\n']\n",
      "1\n"
     ]
    }
   ],
   "source": [
    "def numlines(filename):\n",
    "    \"returns the number of lines in file filename\"\n",
    "    infile=open(filename,\"r\")\n",
    "    linelist=infile.readlines()\n",
    "    infile.close()\n",
    "    print(linelist)\n",
    "    return len(linelist)\n",
    "print(numlines(\"example.txt\"))"
   ]
  },
  {
   "cell_type": "code",
   "execution_count": 24,
   "metadata": {},
   "outputs": [
    {
     "name": "stdout",
     "output_type": "stream",
     "text": [
      "My name is Muhmmad Waqar and i am student of UIT.\n",
      " "
     ]
    }
   ],
   "source": [
    "infile=open(\"example.txt\")\n",
    "for line in infile:\n",
    "    print(line,end=\" \")"
   ]
  },
  {
   "cell_type": "code",
   "execution_count": 25,
   "metadata": {},
   "outputs": [
    {
     "name": "stdout",
     "output_type": "stream",
     "text": [
      "My name is Muhmmad Waqar and i am student of UIT.\n",
      "\n"
     ]
    }
   ],
   "source": [
    "#4.10\n",
    "def myGrep(filename,target):\n",
    "    \"it will print the target of the string line\"\n",
    "    infile=open(filename)\n",
    "    for line in infile:\n",
    "        if target in line:\n",
    "            print(line,end=\"\")\n",
    "    return\"\"\n",
    "print(myGrep(\"example.txt\",\"is\"))"
   ]
  },
  {
   "cell_type": "code",
   "execution_count": 39,
   "metadata": {},
   "outputs": [
    {
     "name": "stdout",
     "output_type": "stream",
     "text": [
      "['This is the second line.Still the second line.....\\n', 'Now we are in the third line.\\n', 'Non string value like 5Must be converted first.\\n', 'Non string value like 5 must be converted first.\\n']\n"
     ]
    }
   ],
   "source": [
    "outfile=open(\"example.txt\",\"w\")\n",
    "outfile.write(\"T\")\n",
    "outfile.write(\"his is the second line.\")\n",
    "outfile.write(\"Still the second line.....\\n\")\n",
    "outfile.write(\"Now we are in the third line.\\n\")\n",
    "outfile.write(\"Non string value like \"+str(5)+\"Must be converted first.\\n\")\n",
    "outfile.write(\"Non string value like {} must be converted first.\\n\".format(5))\n",
    "outfile.close()      \n",
    "infile=open(\"example.txt\",\"r\")\n",
    "content=infile.readlines()\n",
    "print(content)"
   ]
  },
  {
   "cell_type": "code",
   "execution_count": 44,
   "metadata": {},
   "outputs": [
    {
     "name": "stdout",
     "output_type": "stream",
     "text": [
      "7\n",
      "hello\n",
      "[4, 5, 6]\n",
      "0\n",
      "1\n",
      "2\n",
      "3\n",
      "4\n",
      "5\n",
      "6\n",
      "7\n",
      "8\n",
      "9\n"
     ]
    }
   ],
   "source": [
    "#4.11\n",
    "print((3+4)or[3+4])\n",
    "print(\"hello\")\n",
    "lst=[4,5,6]\n",
    "print(lst)\n",
    "for i in range (10):\n",
    "    print(i)"
   ]
  },
  {
   "cell_type": "code",
   "execution_count": 46,
   "metadata": {},
   "outputs": [
    {
     "name": "stdout",
     "output_type": "stream",
     "text": [
      "bcd\n",
      "abc\n",
      "defghijklmnopqrstuvwx\n",
      "wxy\n",
      "wxyz\n"
     ]
    }
   ],
   "source": [
    "#4.12\n",
    "s=\"abcdefghijklmnopqrstuvwxyz\"\n",
    "print(s[1:4])\n",
    "print(s[0:3])\n",
    "print(s[3:24])\n",
    "print(s[22:25])\n",
    "print(s[22:])"
   ]
  },
  {
   "cell_type": "code",
   "execution_count": 51,
   "metadata": {},
   "outputs": [
    {
     "name": "stdout",
     "output_type": "stream",
     "text": [
      "bc\n",
      "abcdefghijklmn\n",
      "opqrstuvwxyz\n",
      "bcdefghijklmnopqrstuvwxy\n"
     ]
    }
   ],
   "source": [
    "#4.13\n",
    "s=\"abcdefghijklmnopqrstuvwxyz\"\n",
    "print(s[1:3])\n",
    "print(s[:14])\n",
    "print(s[14:])\n",
    "print(s[1:-1])"
   ]
  },
  {
   "cell_type": "code",
   "execution_count": 52,
   "metadata": {},
   "outputs": [
    {
     "name": "stdout",
     "output_type": "stream",
     "text": [
      "128.0.0.1--[12/Feb/2011:10:31:08-0600]\"GET/docs/test.txt HTTP/1.0\"\n",
      "128.0.0.1--[12/Feb/2011:10:31:08-0600]\"GET/docs/test.txt\n",
      "12/Feb/2011:10:31:08-0600\n"
     ]
    }
   ],
   "source": [
    "#4.14\n",
    "log='128.0.0.1--[12/Feb/2011:10:31:08-0600]\"GET/docs/test.txt HTTP/1.0\"'\n",
    "address=log.split()[0]\n",
    "data=log[log.find(\"[\")+1:log.find(\"]\")]\n",
    "print(log)\n",
    "print(address)\n",
    "print(data)"
   ]
  },
  {
   "cell_type": "code",
   "execution_count": 10,
   "metadata": {},
   "outputs": [
    {
     "name": "stdout",
     "output_type": "stream",
     "text": [
      "10\t20\t30\t40\t50\t60\t\n",
      "\n",
      "10-20-30-40-50-60-\n",
      "\n",
      "10&20&30&40&50&60&\n",
      "\n",
      "10,20,30,40,50,60,"
     ]
    }
   ],
   "source": [
    "#4.15\n",
    "s=['10','20','30','40','50','60']\n",
    "for i in s:\n",
    "    print(i,end=\"\\t\")\n",
    "print(\"\\n\")\n",
    "for i in s:\n",
    "    print(i,end=\"-\")\n",
    "print(\"\\n\")  \n",
    "for i in s:\n",
    "    print(i,end=\"&\")\n",
    "print(\"\\n\")\n",
    "for i in s:\n",
    "    print(i,end=\",\")"
   ]
  },
  {
   "cell_type": "code",
   "execution_count": 94,
   "metadata": {},
   "outputs": [
    {
     "name": "stdout",
     "output_type": "stream",
     "text": [
      "Enter the first word: bass\n",
      "Enter the second word: salmon\n",
      "Enter the third word: whitefish\n",
      "True\n"
     ]
    }
   ],
   "source": [
    "#4.16\n",
    "word1=input(\"Enter the first word: \")\n",
    "word2=input(\"Enter the second word: \")\n",
    "word3=input(\"Enter the third word: \")\n",
    "if word1<word2 and word2<word3:\n",
    "    print(True)"
   ]
  },
  {
   "cell_type": "code",
   "execution_count": 99,
   "metadata": {},
   "outputs": [
    {
     "name": "stdout",
     "output_type": "stream",
     "text": [
      "48\n",
      "2\n",
      "The xxxxxx of this message is that it is xxxxxx.\n"
     ]
    }
   ],
   "source": [
    "#4.17\n",
    "message=\"The secret of this message is that it is secret.\"\n",
    "length=len(message)\n",
    "count=message.count(\"secret\")\n",
    "censored=message.replace(\"secret\",\"xxxxxx\")\n",
    "print(length)\n",
    "print(count)\n",
    "print(censored)"
   ]
  },
  {
   "cell_type": "code",
   "execution_count": 1,
   "metadata": {},
   "outputs": [
    {
     "name": "stdout",
     "output_type": "stream",
     "text": [
      "It was the best of times  it was the worst of times; it  was the age of wisdom  it was the age of foolishness; it was the epoch of belief  it was the epoch of incredulity; it was       \n"
     ]
    }
   ],
   "source": [
    "#4.18\n",
    "s='''It was the best of times, it was the worst of times; it \n",
    "was the age of wisdom, it was the age of foolishness; it was the\n",
    "epoch of belief, it was the epoch of incredulity; it was ......'''\n",
    "table=str.maketrans(\".,:\\n\",\"    \")\n",
    "news=s.translate(table)\n",
    "print(news)"
   ]
  },
  {
   "cell_type": "code",
   "execution_count": 124,
   "metadata": {},
   "outputs": [
    {
     "name": "stdout",
     "output_type": "stream",
     "text": [
      "Sigel, Marlena Mae\n",
      "Sigel, Marlena Mae.\n",
      "Marlena M. Sigel\n",
      "M. M. Sigel\n",
      "Sigel, M.\n"
     ]
    }
   ],
   "source": [
    "#4.19\n",
    "first=\"Marlena\"\n",
    "last=\"Sigel\"\n",
    "middle=\"Mae\"\n",
    "print(\"{}, {} {}\".format(last,first,middle))\n",
    "print(\"{}, {} {}.\".format(last,first,middle))\n",
    "print(\"{} M. {}\".format(first,last))\n",
    "print(\"M. M. {}\".format(last))\n",
    "print(\"{}, M.\".format(last))"
   ]
  },
  {
   "cell_type": "code",
   "execution_count": 125,
   "metadata": {},
   "outputs": [
    {
     "name": "stdout",
     "output_type": "stream",
     "text": [
      "From: time@abc.com\n",
      "TO: tom@xyz.org\n",
      "Subject: Hello!\n"
     ]
    }
   ],
   "source": [
    "#4.20\n",
    "sender=\"time@abc.com\"\n",
    "recipient=\"tom@xyz.org\"\n",
    "subject=\"Hello!\"\n",
    "print(\"From: {}\".format(sender))\n",
    "print(\"TO: {}\".format(recipient))\n",
    "print(\"Subject: {}\".format(subject))"
   ]
  },
  {
   "cell_type": "code",
   "execution_count": 136,
   "metadata": {},
   "outputs": [
    {
     "name": "stdout",
     "output_type": "stream",
     "text": [
      "pi=3.1,e=2.7\n",
      "pi=3.14,e=2.72\n",
      "pi=3.141593e+00,e=2.718282e+00\n",
      "pi=3.14159,e=2.71828\n"
     ]
    }
   ],
   "source": [
    "#4.21\n",
    "import math\n",
    "pi=math.pi\n",
    "e=math.e\n",
    "print(\"pi={0:2.1f},e={1:2.1f}\".format(pi,e))\n",
    "print(\"pi={0:2.2f},e={1:2.2f}\".format(pi,e))\n",
    "print(\"pi={0:e},e={1:e}\".format(pi,e))\n",
    "print(\"pi={0:2.5f},e={1:2.5f}\".format(pi,e))"
   ]
  },
  {
   "cell_type": "code",
   "execution_count": 139,
   "metadata": {},
   "outputs": [
    {
     "name": "stdout",
     "output_type": "stream",
     "text": [
      "Feb\n"
     ]
    }
   ],
   "source": [
    "#problem\n",
    "#4.22\n",
    "def month(m):\n",
    "    month={1:\"Jan\",2:\"Feb\",3:\"March\",4:\"April\",5:\"May\",6:\"June\",7:\"July\",8:\"Aug\",9:\"Sep\",10:\"Oct\",11:\"Nov\",12:\"Dec\"}\n",
    "    m=month[m]\n",
    "    return m\n",
    "print(month(2))"
   ]
  },
  {
   "cell_type": "code",
   "execution_count": 150,
   "metadata": {},
   "outputs": [
    {
     "name": "stdout",
     "output_type": "stream",
     "text": [
      "4.0\n"
     ]
    }
   ],
   "source": [
    "#4.23\n",
    "def average(n):\n",
    "    sentence=n\n",
    "    words=sentence.split()\n",
    "    return sum(len(words)for word in words)/len(words)    \n",
    "print(average(\"This is a sentence.\"))"
   ]
  },
  {
   "cell_type": "code",
   "execution_count": 160,
   "metadata": {},
   "outputs": [
    {
     "name": "stdout",
     "output_type": "stream",
     "text": [
      "How do you spell winners?\n",
      "I know, I know!\n",
      "UITIANS\n",
      "And that's how you spell winner!\n",
      "GO uitians!\n",
      "\n"
     ]
    }
   ],
   "source": [
    "#4.24\n",
    "def cheers(name):\n",
    "    print(\"How do you spell winners?\")\n",
    "    print(\"I know, I know!\")\n",
    "    for a in name:\n",
    "        print(a.upper(),end=\"\")\n",
    "    print(\"\\nAnd that's how you spell winner!\")\n",
    "    print(\"GO \"+name+\"!\")\n",
    "    return\"\"\n",
    "print(cheers(\"uitians\"))    "
   ]
  },
  {
   "cell_type": "code",
   "execution_count": 164,
   "metadata": {
    "scrolled": true
   },
   "outputs": [
    {
     "name": "stdout",
     "output_type": "stream",
     "text": [
      "a,e,i,o,and u appear, respectively 1,2,1,2,2\n",
      "\n"
     ]
    }
   ],
   "source": [
    "#4.25\n",
    "def vowelcount(text):\n",
    "    a=text.count(\"a\")\n",
    "    e=text.count(\"e\")\n",
    "    i=text.count(\"i\")\n",
    "    o=text.count(\"o\")\n",
    "    u=text.count(\"u\")\n",
    "    print(\"a,e,i,o,and u appear, respectively {0},{1},{2},{3},{4}\".format(a,e,i,o,u))\n",
    "    return\"\"\n",
    "print(vowelcount(\"i am count number of ten\"))"
   ]
  },
  {
   "cell_type": "code",
   "execution_count": 30,
   "metadata": {},
   "outputs": [
    {
     "name": "stdout",
     "output_type": "stream",
     "text": [
      "\n"
     ]
    }
   ],
   "source": [
    "#4.26 \n",
    "def crypto(filename):\n",
    "\n",
    "    infile=open(filename,\"r\")\n",
    "    content=infile.read()\n",
    "    infile.close()\n",
    "    outfile = open(\"secret1.txt\",\"w\")\n",
    "    content=content.replace(\"secret\",\"xxxxxx\")\n",
    "    outfile.write(content)\n",
    "    outfile.close()\n",
    "    return\"\"\n",
    "print(crypto(\"secret.txt\"))"
   ]
  },
  {
   "cell_type": "code",
   "execution_count": 31,
   "metadata": {},
   "outputs": [
    {
     "name": "stdout",
     "output_type": "stream",
     "text": [
      "\n"
     ]
    }
   ],
   "source": [
    "#4.27\n",
    "def fcopy(file1,file2):\n",
    "    infile1 = open(file1,\"r\")\n",
    "    text = infile1.read()\n",
    "    infile1.close()\n",
    "    outfile = open(file2,\"w\")\n",
    "    outfile.write(text)\n",
    "    outfile.close()\n",
    "    return\"\"\n",
    "print(fcopy(\"secret1.txt\",\"fandom.txt\"))"
   ]
  },
  {
   "cell_type": "code",
   "execution_count": 33,
   "metadata": {},
   "outputs": [
    {
     "name": "stdout",
     "output_type": "stream",
     "text": [
      "3\n"
     ]
    }
   ],
   "source": [
    "#4.28\n",
    "def links(file):\n",
    "    infile = open(file,\"r\")\n",
    "    linelist=infile.readlines()\n",
    "    infile.close()\n",
    "    return len(linelist)\n",
    "print(links(\"links.html\"))"
   ]
  },
  {
   "cell_type": "code",
   "execution_count": 46,
   "metadata": {},
   "outputs": [
    {
     "name": "stdout",
     "output_type": "stream",
     "text": [
      "Number of words:  32\n",
      "Number of lines:  5\n",
      "Number of characters:  178\n",
      "\n"
     ]
    }
   ],
   "source": [
    "#4.29\n",
    "def state(filename):\n",
    "    infile=open(filename,'r')\n",
    "    content=infile.read()\n",
    "    linelist=content.split(\"\\n\")\n",
    "    words=content.split()\n",
    "    infile.close()\n",
    "    print(\"Number of words: \",len(words))\n",
    "    print(\"Number of lines: \",len(linelist))\n",
    "    print(\"Number of characters: \",len(content))\n",
    "    return\"\"\n",
    "print(state(\"example.txt\"))"
   ]
  },
  {
   "cell_type": "code",
   "execution_count": 51,
   "metadata": {},
   "outputs": [
    {
     "name": "stdout",
     "output_type": "stream",
     "text": [
      "6 Students Got A\n",
      "2 Students Got A-\n",
      "3 Students Got B+\n",
      "2 Students Got B\n",
      "2 Students Got B-\n",
      "4 Students Got C\n",
      "1 Students Got C-\n",
      "2 Students Got F\n",
      "\n"
     ]
    }
   ],
   "source": [
    "#4.30\n",
    "def distribution(filename):\n",
    "    infile=open(filename,\"r\")\n",
    "    content=infile.read()\n",
    "    grades=content.split()\n",
    "    dic={}\n",
    "    for grade in grades:\n",
    "        if grade in dic:\n",
    "            dic[grade]+=1\n",
    "        else:\n",
    "            dic[grade]=1\n",
    "    for grade in dic:\n",
    "        print(dic[grade],\"Students Got\",grade)\n",
    "    return\"\"\n",
    "print(distribution(\"grades.txt\"))"
   ]
  },
  {
   "cell_type": "code",
   "execution_count": 53,
   "metadata": {},
   "outputs": [
    {
     "name": "stdout",
     "output_type": "stream",
     "text": [
      "False\n",
      "\n"
     ]
    }
   ],
   "source": [
    "#4.32\n",
    "def duplicate(filename):\n",
    "    infile=open(filename,'r')\n",
    "    content=infile.read()\n",
    "    infile.close()\n",
    "    words=content.split()\n",
    "    if len(words )>2:\n",
    "            print(False)\n",
    "    else:\n",
    "        print(True)\n",
    "    return\"\"\n",
    "print(duplicate(\"example.txt\"))"
   ]
  },
  {
   "cell_type": "code",
   "execution_count": 54,
   "metadata": {},
   "outputs": [
    {
     "name": "stdout",
     "output_type": "stream",
     "text": [
      "\n"
     ]
    }
   ],
   "source": [
    "#4.33\n",
    "def censor(filename):\n",
    "    infile = open(filename,\"r\")\n",
    "    outfile = open(\"censored.txt\",\"w\")\n",
    "    for line in infile:\n",
    "        words=line.split()\n",
    "        for word in words:\n",
    "            if len(word)==4:\n",
    "                line=line.replace(word,\"xxxx\")\n",
    "        outfile.write(line)\n",
    "    outfile.close()\n",
    "    infile.close() \n",
    "    return\"\"\n",
    "print(censor(\"example.txt\"))"
   ]
  }
 ],
 "metadata": {
  "kernelspec": {
   "display_name": "Python 3",
   "language": "python",
   "name": "python3"
  },
  "language_info": {
   "codemirror_mode": {
    "name": "ipython",
    "version": 3
   },
   "file_extension": ".py",
   "mimetype": "text/x-python",
   "name": "python",
   "nbconvert_exporter": "python",
   "pygments_lexer": "ipython3",
   "version": "3.7.3"
  }
 },
 "nbformat": 4,
 "nbformat_minor": 2
}
